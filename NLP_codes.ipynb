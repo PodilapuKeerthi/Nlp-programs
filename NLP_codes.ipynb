{
  "nbformat": 4,
  "nbformat_minor": 0,
  "metadata": {
    "colab": {
      "provenance": []
    },
    "kernelspec": {
      "name": "python3",
      "display_name": "Python 3"
    },
    "language_info": {
      "name": "python"
    }
  },
  "cells": [
    {
      "cell_type": "code",
      "execution_count": 4,
      "metadata": {
        "colab": {
          "base_uri": "https://localhost:8080/"
        },
        "id": "GuXozeuVC0ut",
        "outputId": "cc3b708e-7150-4150-ddbc-83877d24cd2e"
      },
      "outputs": [
        {
          "output_type": "stream",
          "name": "stdout",
          "text": [
            "Requirement already satisfied: nltk in /usr/local/lib/python3.10/dist-packages (3.9.1)\n",
            "Requirement already satisfied: click in /usr/local/lib/python3.10/dist-packages (from nltk) (8.1.7)\n",
            "Requirement already satisfied: joblib in /usr/local/lib/python3.10/dist-packages (from nltk) (1.4.2)\n",
            "Requirement already satisfied: regex>=2021.8.3 in /usr/local/lib/python3.10/dist-packages (from nltk) (2024.9.11)\n",
            "Requirement already satisfied: tqdm in /usr/local/lib/python3.10/dist-packages (from nltk) (4.66.6)\n"
          ]
        }
      ],
      "source": [
        "!pip install nltk"
      ]
    },
    {
      "cell_type": "markdown",
      "source": [
        "# **1. A python program to find all unigrams, bigrams and trigrams present in the given corpus.**"
      ],
      "metadata": {
        "id": "KPTJelK5DEcA"
      }
    },
    {
      "cell_type": "code",
      "source": [
        "import nltk\n",
        "nltk.download('punkt')\n",
        "nltk.download('punkt_tab')\n",
        "from nltk.util import ngrams\n",
        "samplText='this is a very good book to study'\n",
        "for i in range(1,4):\n",
        "    NGRAMS=ngrams(sequence=nltk.word_tokenize(samplText), n=i)\n",
        "    for grams in NGRAMS:\n",
        "        print(grams)"
      ],
      "metadata": {
        "colab": {
          "base_uri": "https://localhost:8080/"
        },
        "id": "PNxBOk_7DJux",
        "outputId": "d2583cae-8ce9-4d87-ac8a-3c6993450cbe"
      },
      "execution_count": 5,
      "outputs": [
        {
          "output_type": "stream",
          "name": "stdout",
          "text": [
            "('this',)\n",
            "('is',)\n",
            "('a',)\n",
            "('very',)\n",
            "('good',)\n",
            "('book',)\n",
            "('to',)\n",
            "('study',)\n",
            "('this', 'is')\n",
            "('is', 'a')\n",
            "('a', 'very')\n",
            "('very', 'good')\n",
            "('good', 'book')\n",
            "('book', 'to')\n",
            "('to', 'study')\n",
            "('this', 'is', 'a')\n",
            "('is', 'a', 'very')\n",
            "('a', 'very', 'good')\n",
            "('very', 'good', 'book')\n",
            "('good', 'book', 'to')\n",
            "('book', 'to', 'study')\n"
          ]
        },
        {
          "output_type": "stream",
          "name": "stderr",
          "text": [
            "[nltk_data] Downloading package punkt to /root/nltk_data...\n",
            "[nltk_data]   Package punkt is already up-to-date!\n",
            "[nltk_data] Downloading package punkt_tab to /root/nltk_data...\n",
            "[nltk_data]   Package punkt_tab is already up-to-date!\n"
          ]
        }
      ]
    },
    {
      "cell_type": "markdown",
      "source": [
        "#**2. A python program to find the probability of the given statement “This is my cat” by taking the an exmple corpus into consideration. 'This is a dog’, 'This is a cat', 'I love my cat', 'This is my name’**"
      ],
      "metadata": {
        "id": "QI8hr-12DQwx"
      }
    },
    {
      "cell_type": "code",
      "source": [
        "def readData():\n",
        "    data = ['This is a dog', 'This is a cat', 'I love my cat', 'This is my name']\n",
        "    dat = []\n",
        "    for sentence in data:\n",
        "        for word in sentence.split():\n",
        "            dat.append(word)\n",
        "    print(dat)\n",
        "    return dat\n",
        "\n",
        "def createBigram(data):\n",
        "    listOfBigrams = []\n",
        "    bigramCounts = {}\n",
        "    unigramCounts = {}\n",
        "\n",
        "    for i in range(len(data) - 1):\n",
        "        if data[i + 1].islower():\n",
        "            bigram = (data[i], data[i + 1])\n",
        "            listOfBigrams.append(bigram)\n",
        "            if bigram in bigramCounts:\n",
        "                bigramCounts[bigram] += 1\n",
        "            else:\n",
        "                bigramCounts[bigram] = 1\n",
        "        if data[i] in unigramCounts:\n",
        "            unigramCounts[data[i]] += 1\n",
        "        else:\n",
        "            unigramCounts[data[i]] = 1\n",
        "\n",
        "    return listOfBigrams, unigramCounts, bigramCounts\n",
        "\n",
        "def calcBigramProb(listOfBigrams, unigramCounts, bigramCounts):\n",
        "    listOfProb = {}\n",
        "    for bigram in listOfBigrams:\n",
        "        word1 = bigram[0]\n",
        "        word2 = bigram[1]\n",
        "        listOfProb[bigram] = bigramCounts.get(bigram, 0) / unigramCounts.get(word1, 1)\n",
        "    return listOfProb\n",
        "\n",
        "if __name__ == '__main__':\n",
        "    data = readData()\n",
        "    listOfBigrams, unigramCounts, bigramCounts = createBigram(data)\n",
        "\n",
        "    print(\"\\nAll the possible Bigrams are:\")\n",
        "    print(listOfBigrams)\n",
        "\n",
        "    print(\"\\nBigrams along with their frequency:\")\n",
        "    print(bigramCounts)\n",
        "\n",
        "    print(\"\\nUnigrams along with their frequency:\")\n",
        "    print(unigramCounts)\n",
        "\n",
        "    bigramProb = calcBigramProb(listOfBigrams, unigramCounts, bigramCounts)\n",
        "\n",
        "    print(\"\\nBigrams along with their probability:\")\n",
        "    print(bigramProb)\n",
        "\n",
        "    inputList = \"This is my cat\"\n",
        "    splt = inputList.split()\n",
        "    bilist = []\n",
        "    outputProb1 = 1\n",
        "\n",
        "    for i in range(len(splt) - 1):\n",
        "        bilist.append((splt[i], splt[i + 1]))\n",
        "\n",
        "    print(\"\\nThe bigrams in the given sentence are:\")\n",
        "    print(bilist)\n",
        "\n",
        "    for bigram in bilist:\n",
        "        if bigram in bigramProb:\n",
        "            outputProb1 *= bigramProb[bigram]\n",
        "        else:\n",
        "            outputProb1 *= 0\n",
        "\n",
        "    print(f'\\nProbability of the sentence \"This is my cat\" = {outputProb1}')\n"
      ],
      "metadata": {
        "colab": {
          "base_uri": "https://localhost:8080/"
        },
        "id": "ZvMUMMgiDT1a",
        "outputId": "cf6d383b-94ef-4ce6-ea9c-e7f4d20562d2"
      },
      "execution_count": 6,
      "outputs": [
        {
          "output_type": "stream",
          "name": "stdout",
          "text": [
            "['This', 'is', 'a', 'dog', 'This', 'is', 'a', 'cat', 'I', 'love', 'my', 'cat', 'This', 'is', 'my', 'name']\n",
            "\n",
            "All the possible Bigrams are:\n",
            "[('This', 'is'), ('is', 'a'), ('a', 'dog'), ('This', 'is'), ('is', 'a'), ('a', 'cat'), ('I', 'love'), ('love', 'my'), ('my', 'cat'), ('This', 'is'), ('is', 'my'), ('my', 'name')]\n",
            "\n",
            "Bigrams along with their frequency:\n",
            "{('This', 'is'): 3, ('is', 'a'): 2, ('a', 'dog'): 1, ('a', 'cat'): 1, ('I', 'love'): 1, ('love', 'my'): 1, ('my', 'cat'): 1, ('is', 'my'): 1, ('my', 'name'): 1}\n",
            "\n",
            "Unigrams along with their frequency:\n",
            "{'This': 3, 'is': 3, 'a': 2, 'dog': 1, 'cat': 2, 'I': 1, 'love': 1, 'my': 2}\n",
            "\n",
            "Bigrams along with their probability:\n",
            "{('This', 'is'): 1.0, ('is', 'a'): 0.6666666666666666, ('a', 'dog'): 0.5, ('a', 'cat'): 0.5, ('I', 'love'): 1.0, ('love', 'my'): 1.0, ('my', 'cat'): 0.5, ('is', 'my'): 0.3333333333333333, ('my', 'name'): 0.5}\n",
            "\n",
            "The bigrams in the given sentence are:\n",
            "[('This', 'is'), ('is', 'my'), ('my', 'cat')]\n",
            "\n",
            "Probability of the sentence \"This is my cat\" = 0.16666666666666666\n"
          ]
        }
      ]
    },
    {
      "cell_type": "markdown",
      "source": [
        "# **3. Python code to detect Fake News using NLP.**"
      ],
      "metadata": {
        "id": "bGJTYstJFbRb"
      }
    },
    {
      "cell_type": "code",
      "source": [
        "#how to upload a large datset from drive\n",
        "\n",
        "from google.colab import drive\n",
        "drive.mount('/content/drive')"
      ],
      "metadata": {
        "colab": {
          "base_uri": "https://localhost:8080/"
        },
        "id": "n-xXD2v_Ilsu",
        "outputId": "4fbab9f3-90d1-4a28-80fd-f35ec5e3f576"
      },
      "execution_count": 14,
      "outputs": [
        {
          "output_type": "stream",
          "name": "stdout",
          "text": [
            "Mounted at /content/drive\n"
          ]
        }
      ]
    },
    {
      "cell_type": "code",
      "source": [
        "# Replace with actual path to your dataset in Google Drive\n",
        "#datset link:https://www.kaggle.com/c/fake-news/code\n",
        "#downloaded train.csv and renamed it as fakenews.csv\n",
        "dataset_path = '/content/drive/MyDrive/fakenews.csv'\n",
        "try:\n",
        "    dataset = pd.read_csv(dataset_path)\n",
        "    print(\"Dataset loaded successfully.\")\n",
        "except FileNotFoundError:\n",
        "    print(f\"Error: Dataset not found at {dataset_path}. Please check the path.\")"
      ],
      "metadata": {
        "colab": {
          "base_uri": "https://localhost:8080/"
        },
        "id": "JRHp5BppIpC3",
        "outputId": "4f7c6f85-ab3a-4e39-d156-3af38417976e"
      },
      "execution_count": 17,
      "outputs": [
        {
          "output_type": "stream",
          "name": "stdout",
          "text": [
            "Dataset loaded successfully.\n"
          ]
        }
      ]
    },
    {
      "cell_type": "code",
      "source": [
        "import numpy as np\n",
        "import pandas as pd\n",
        "import seaborn as sns\n",
        "dataset=pd.read_csv(dataset_path)\n",
        "dataset.head()\n",
        "#[id,title,author,text,label] 0 real 1 fake\n",
        "dataset.shape\n",
        "\n",
        "#checking empty values\n",
        "dataset.isna().sum()\n",
        "dataset.dropna(axis=0,inplace=True)\n",
        "dataset.shape\n",
        "\n",
        "dataset.head()\n",
        "dataset.reset_index(inplace=True)\n",
        "dataset\n",
        "\n",
        "#balanced data or imbalanced data\n",
        "sns.countplot(dataset['label'])\n",
        "#preprocessing special characters\n",
        "data=dataset['title'][0]\n",
        "import re\n",
        "data=re.sub('[^a-zA-Z]',' ',data)\n",
        "\n",
        "#changing to lower case\n",
        "data=data.lower()\n",
        "data\n",
        "\n",
        "#split the text\n",
        "list=data.split()\n",
        "list\n",
        "\n",
        "#remove the stopwords from text if any\n",
        "import nltk\n",
        "nltk.download('stopwords')\n",
        "from nltk.corpus import stopwords\n",
        "from nltk.stem.porter import PorterStemmer\n",
        "ps=PorterStemmer()\n",
        "review=[ps.stem(word) for word in list if not word in stopwords.words('english')]\n",
        "review\n",
        "' '.join(review)\n",
        "\n",
        "corpus=[]\n",
        "for i in range(0,len(dataset)):\n",
        "    review=re.sub('[^a-zA-Z]',' ',dataset['title'][i])\n",
        "    review=review.lower()\n",
        "    review=review.split()\n",
        "    review=[ps.stem(word) for word in review if not word in set(stopwords.words('english'))]\n",
        "    corpus.append(' '.join(review))\n",
        "corpus[0]\n",
        "corpus\n",
        "\n",
        "#bag of words model [text vector]\n",
        "\n",
        "from sklearn.feature_extraction.text import CountVectorizer\n",
        "cv=CountVectorizer()\n",
        "x=cv.fit_transform(corpus).toarray()#space matrix\n",
        "x.shape #(18285,14913)\n",
        "x[0]\n",
        "y=dataset['label']\n",
        "y.shape #(18285, )\n",
        "\n",
        "#training set test set\n",
        "from sklearn.model_selection import train_test_split\n",
        "x_train,x_test,y_train,y_test=train_test_split(x,y,test_size=0.25,random_state=0)\n",
        "x_train.shape\n",
        "x_test.shape\n",
        "from sklearn.naive_bayes import MultinomialNB\n",
        "classifier=MultinomialNB()\n",
        "classifier.fit(x_train,y_train)\n",
        "y_pred=classifier.predict(x_test)\n",
        "y_pred\n",
        "from sklearn.metrics import confusion_matrix,accuracy_score\n",
        "cm=confusion_matrix(y_test,y_pred)\n",
        "sns.heatmap(cm,annot=True)\n",
        "cm\n",
        "accuracy_score(y_test,y_pred)"
      ],
      "metadata": {
        "colab": {
          "base_uri": "https://localhost:8080/",
          "height": 484
        },
        "id": "zsqXfSWVFj8t",
        "outputId": "8e4f7bb1-2dbf-4ed8-a767-555945dddb8f"
      },
      "execution_count": 19,
      "outputs": [
        {
          "output_type": "stream",
          "name": "stderr",
          "text": [
            "[nltk_data] Downloading package stopwords to /root/nltk_data...\n",
            "[nltk_data]   Package stopwords is already up-to-date!\n"
          ]
        },
        {
          "output_type": "execute_result",
          "data": {
            "text/plain": [
              "0.9024496937882764"
            ]
          },
          "metadata": {},
          "execution_count": 19
        },
        {
          "output_type": "display_data",
          "data": {
            "text/plain": [
              "<Figure size 640x480 with 2 Axes>"
            ],
            "image/png": "[encoded data removed]"
          },
          "metadata": {}
        }
      ]
    },
    {
      "cell_type": "markdown",
      "source": [
        "# **4.Choose any corpus available on the internet freely. For the corpus, for each document, count how many  times each stop word occurs and find out which are the most frequently occurring stop words. Further,  calculate the term frequency and inverse document frequency as  The motivation behind this is basically to find out how important a document is to a given query. For e.g.: If the query is say: “The brown crow”. “The” is less important. “Brown” and “crow” are relatively more important. Since “the” is a more common word, its tf will be high. Hence we multiply it by idf, by knowing how common it is to reduce its weight.**"
      ],
      "metadata": {
        "id": "yCa-DFztESx9"
      }
    },
    {
      "cell_type": "code",
      "source": [
        "# Import necessary libraries\n",
        "import nltk\n",
        "from nltk.corpus import gutenberg\n",
        "from nltk.corpus import stopwords\n",
        "from collections import Counter\n",
        "import pandas as pd\n",
        "import numpy as np\n",
        "\n",
        "# Download necessary NLTK data\n",
        "nltk.download('gutenberg')\n",
        "nltk.download('stopwords')\n",
        "\n",
        "# Define stop words\n",
        "stop_words = set(stopwords.words('english'))\n",
        "\n",
        "# Load the Gutenberg Corpus from NLTK\n",
        "corpus = gutenberg.fileids()\n",
        "\n",
        "# Initialize a dictionary to store stop word counts per document\n",
        "stop_word_counts = {}\n",
        "\n",
        "# Calculate stop word occurrences in each document\n",
        "for fileid in corpus:\n",
        "    words = gutenberg.words(fileid)\n",
        "    stop_word_counter = Counter(word.lower() for word in words if word.lower() in stop_words)\n",
        "    stop_word_counts[fileid] = stop_word_counter\n",
        "\n",
        "# Display stop word counts\n",
        "print(\"Stop Word Counts for Each Document:\")\n",
        "for fileid, count in stop_word_counts.items():\n",
        "    print(f\"\\nDocument: {fileid}\")\n",
        "    print(count.most_common(10))  # Show top 10 most common stop words\n",
        "\n",
        "# Combine all words for TF-IDF calculation (excluding stop words)\n",
        "documents = []\n",
        "for fileid in corpus:\n",
        "    words = [word.lower() for word in gutenberg.words(fileid) if word.isalpha() and word.lower() not in stop_words]\n",
        "    documents.append(words)\n",
        "\n",
        "# Flatten documents for term frequency calculation\n",
        "flat_documents = [word for doc in documents for word in doc]\n",
        "\n",
        "# Calculate term frequency (TF)\n",
        "tf = Counter(flat_documents)\n",
        "tf = {word: freq / len(flat_documents) for word, freq in tf.items()}\n",
        "\n",
        "# Calculate document frequency (DF)\n",
        "df = Counter()\n",
        "for doc in documents:\n",
        "    unique_terms = set(doc)\n",
        "    for term in unique_terms:\n",
        "        df[term] += 1\n",
        "\n",
        "# Calculate inverse document frequency (IDF)\n",
        "total_docs = len(documents)\n",
        "idf = {term: np.log(total_docs / df[term]) for term in df}\n",
        "\n",
        "# Calculate TF-IDF\n",
        "tf_idf = {term: tf[term] * idf[term] for term in tf}\n",
        "\n",
        "# Display TF-IDF scores for top 10 words with highest scores\n",
        "tf_idf_sorted = sorted(tf_idf.items(), key=lambda x: x[1], reverse=True)\n",
        "print(\"\\nTop 10 Words by TF-IDF Score:\")\n",
        "for term, score in tf_idf_sorted[:10]:\n",
        "    print(f\"{term}: {score}\")\n"
      ],
      "metadata": {
        "colab": {
          "base_uri": "https://localhost:8080/"
        },
        "id": "ddDKqecMEnPX",
        "outputId": "3501971c-ec8b-497d-f5b9-da938b98876e"
      },
      "execution_count": 7,
      "outputs": [
        {
          "output_type": "stream",
          "name": "stderr",
          "text": [
            "[nltk_data] Downloading package gutenberg to /root/nltk_data...\n",
            "[nltk_data]   Unzipping corpora/gutenberg.zip.\n",
            "[nltk_data] Downloading package stopwords to /root/nltk_data...\n",
            "[nltk_data]   Unzipping corpora/stopwords.zip.\n"
          ]
        },
        {
          "output_type": "stream",
          "name": "stdout",
          "text": [
            "Stop Word Counts for Each Document:\n",
            "\n",
            "Document: austen-emma.txt\n",
            "[('to', 5239), ('the', 5201), ('and', 4896), ('of', 4291), ('i', 3178), ('a', 3129), ('it', 2528), ('her', 2469), ('was', 2398), ('she', 2340)]\n",
            "\n",
            "Document: austen-persuasion.txt\n",
            "[('the', 3329), ('to', 2808), ('and', 2801), ('of', 2570), ('a', 1595), ('in', 1389), ('was', 1337), ('her', 1204), ('had', 1186), ('she', 1146)]\n",
            "\n",
            "Document: austen-sense.txt\n",
            "[('to', 4116), ('the', 4105), ('of', 3572), ('and', 3491), ('her', 2551), ('a', 2092), ('i', 2004), ('in', 1979), ('was', 1861), ('it', 1757)]\n",
            "\n",
            "Document: bible-kjv.txt\n",
            "[('the', 64023), ('and', 51696), ('of', 34670), ('to', 13580), ('that', 12912), ('in', 12667), ('he', 10419), ('for', 8971), ('i', 8854), ('his', 8473)]\n",
            "\n",
            "Document: blake-poems.txt\n",
            "[('the', 439), ('and', 348), ('of', 146), ('in', 141), ('i', 130), ('a', 128), ('to', 111), ('my', 83), ('with', 66), ('his', 57)]\n",
            "\n",
            "Document: bryant-stories.txt\n",
            "[('the', 3451), ('and', 2098), ('to', 1180), ('a', 1036), ('he', 1017), ('of', 818), ('was', 713), ('in', 641), ('it', 614), ('his', 551)]\n",
            "\n",
            "Document: burgess-busterbrown.txt\n",
            "[('he', 678), ('the', 660), ('and', 516), ('to', 436), ('of', 342), ('that', 308), ('it', 300), ('a', 287), ('was', 274), ('had', 211)]\n",
            "\n",
            "Document: carroll-alice.txt\n",
            "[('the', 1642), ('and', 872), ('to', 729), ('a', 632), ('it', 595), ('she', 553), ('i', 543), ('of', 514), ('you', 411), ('in', 369)]\n",
            "\n",
            "Document: chesterton-ball.txt\n",
            "[('the', 4965), ('and', 2667), ('of', 2555), ('a', 2262), ('to', 1580), ('in', 1407), ('he', 1328), ('that', 1168), ('it', 1137), ('you', 1066)]\n",
            "\n",
            "Document: chesterton-brown.txt\n",
            "[('the', 4670), ('and', 2221), ('a', 2132), ('of', 2093), ('to', 1391), ('he', 1357), ('in', 1253), ('was', 1145), ('i', 1093), ('it', 983)]\n",
            "\n",
            "Document: chesterton-thursday.txt\n",
            "[('the', 3636), ('a', 1742), ('of', 1725), ('and', 1658), ('he', 1126), ('to', 1055), ('in', 923), ('i', 885), ('that', 871), ('his', 810)]\n",
            "\n",
            "Document: edgeworth-parents.txt\n",
            "[('the', 7728), ('to', 5220), ('and', 4983), ('of', 3745), ('i', 3657), ('a', 3155), ('you', 2925), ('he', 2637), ('it', 2244), ('in', 2223)]\n",
            "\n",
            "Document: melville-moby_dick.txt\n",
            "[('the', 14431), ('of', 6609), ('and', 6430), ('a', 4736), ('to', 4625), ('in', 4172), ('that', 3085), ('his', 2530), ('it', 2522), ('i', 2127)]\n",
            "\n",
            "Document: milton-paradise.txt\n",
            "[('and', 3395), ('the', 2968), ('to', 2228), ('of', 2050), ('in', 1366), ('his', 1170), ('with', 1160), ('or', 715), ('that', 704), ('all', 700)]\n",
            "\n",
            "Document: shakespeare-caesar.txt\n",
            "[('and', 627), ('the', 579), ('i', 533), ('to', 446), ('you', 391), ('of', 354), ('that', 289), ('a', 267), ('not', 257), ('is', 253)]\n",
            "\n",
            "Document: shakespeare-hamlet.txt\n",
            "[('the', 993), ('and', 863), ('to', 685), ('of', 610), ('i', 574), ('you', 527), ('a', 511), ('my', 502), ('it', 419), ('in', 400)]\n",
            "\n",
            "Document: shakespeare-macbeth.txt\n",
            "[('the', 650), ('and', 546), ('to', 384), ('i', 348), ('of', 338), ('a', 241), ('that', 238), ('d', 224), ('you', 206), ('my', 203)]\n",
            "\n",
            "Document: whitman-leaves.txt\n",
            "[('the', 10113), ('and', 5334), ('of', 4265), ('i', 2933), ('to', 2244), ('in', 1875), ('d', 1579), ('you', 1537), ('a', 1293), ('with', 1250)]\n",
            "\n",
            "Top 10 Words by TF-IDF Score:\n",
            "unto: 0.009652926276427356\n",
            "israel: 0.003237810625134255\n",
            "saith: 0.0027148185554347307\n",
            "thee: 0.0023086035885718295\n",
            "thou: 0.002144962167008943\n",
            "david: 0.0019395118298907211\n",
            "elinor: 0.0019307854717573653\n",
            "emma: 0.0018555902675662802\n",
            "judah: 0.0017505972847594118\n",
            "hath: 0.0017135357531590939\n"
          ]
        }
      ]
    },
    {
      "cell_type": "markdown",
      "source": [
        "# **5. Python code to perform sentiment analysis using NLP.**"
      ],
      "metadata": {
        "id": "SqVQx7kREyE3"
      }
    },
    {
      "cell_type": "code",
      "source": [
        "import nltk\n",
        "nltk.download('vader_lexicon')\n",
        "from nltk.sentiment.vader import SentimentIntensityAnalyzer\n",
        "Sid=SentimentIntensityAnalyzer()\n",
        "a='This movie is great to watch'\n",
        "Sid.polarity_scores(a)"
      ],
      "metadata": {
        "colab": {
          "base_uri": "https://localhost:8080/"
        },
        "id": "Qx7K5yRWE4-s",
        "outputId": "c1ac9f12-7440-433b-ed4f-838ccef4ebaa"
      },
      "execution_count": 8,
      "outputs": [
        {
          "output_type": "stream",
          "name": "stderr",
          "text": [
            "[nltk_data] Downloading package vader_lexicon to /root/nltk_data...\n"
          ]
        },
        {
          "output_type": "execute_result",
          "data": {
            "text/plain": [
              "{'neg': 0.0, 'neu': 0.549, 'pos': 0.451, 'compound': 0.6249}"
            ]
          },
          "metadata": {},
          "execution_count": 8
        }
      ]
    },
    {
      "cell_type": "markdown",
      "source": [
        "# **6. Python code to develop Spam Filter using NLP.**"
      ],
      "metadata": {
        "id": "Rp_-1M3PFD7W"
      }
    },
    {
      "cell_type": "code",
      "source": [
        "from google.colab import files\n",
        "uploaded=files.upload()\n",
        "# dataset link: https://www.kaggle.com/datasets/tmehul/spamcsv"
      ],
      "metadata": {
        "colab": {
          "base_uri": "https://localhost:8080/",
          "height": 73
        },
        "id": "A2IFtxhIFVdZ",
        "outputId": "513f094f-b328-42c2-d139-3dda3b67b628"
      },
      "execution_count": 9,
      "outputs": [
        {
          "output_type": "display_data",
          "data": {
            "text/plain": [
              "<IPython.core.display.HTML object>"
            ],
            "text/html": [
              "\n",
              "     <input type=\"file\" id=\"files-7ccb2431-bd22-441d-bc3a-185728615efd\" name=\"files[]\" multiple disabled\n",
              "        style=\"border:none\" />\n",
              "     <output id=\"result-7ccb2431-bd22-441d-bc3a-185728615efd\">\n",
              "      Upload widget is only available when the cell has been executed in the\n",
              "      current browser session. Please rerun this cell to enable.\n",
              "      </output>\n",
              "      <script>// Copyright 2017 Google LLC\n",
              "//\n",
              "// Licensed under the Apache License, Version 2.0 (the \"License\");\n",
              "// you may not use this file except in compliance with the License.\n",
              "// You may obtain a copy of the License at\n",
              "//\n",
              "//      http://www.apache.org/licenses/LICENSE-2.0\n",
              "//\n",
              "// Unless required by applicable law or agreed to in writing, software\n",
              "// distributed under the License is distributed on an \"AS IS\" BASIS,\n",
              "// WITHOUT WARRANTIES OR CONDITIONS OF ANY KIND, either express or implied.\n",
              "// See the License for the specific language governing permissions and\n",
              "// limitations under the License.\n",
              "\n",
              "/**\n",
              " * @fileoverview Helpers for google.colab Python module.\n",
              " */\n",
              "(function(scope) {\n",
              "function span(text, styleAttributes = {}) {\n",
              "  const element = document.createElement('span');\n",
              "  element.textContent = text;\n",
              "  for (const key of Object.keys(styleAttributes)) {\n",
              "    element.style[key] = styleAttributes[key];\n",
              "  }\n",
              "  return element;\n",
              "}\n",
              "\n",
              "// Max number of bytes which will be uploaded at a time.\n",
              "const MAX_PAYLOAD_SIZE = 100 * 1024;\n",
              "\n",
              "function _uploadFiles(inputId, outputId) {\n",
              "  const steps = uploadFilesStep(inputId, outputId);\n",
              "  const outputElement = document.getElementById(outputId);\n",
              "  // Cache steps on the outputElement to make it available for the next call\n",
              "  // to uploadFilesContinue from Python.\n",
              "  outputElement.steps = steps;\n",
              "\n",
              "  return _uploadFilesContinue(outputId);\n",
              "}\n",
              "\n",
              "// This is roughly an async generator (not supported in the browser yet),\n",
              "// where there are multiple asynchronous steps and the Python side is going\n",
              "// to poll for completion of each step.\n",
              "// This uses a Promise to block the python side on completion of each step,\n",
              "// then passes the result of the previous step as the input to the next step.\n",
              "function _uploadFilesContinue(outputId) {\n",
              "  const outputElement = document.getElementById(outputId);\n",
              "  const steps = outputElement.steps;\n",
              "\n",
              "  const next = steps.next(outputElement.lastPromiseValue);\n",
              "  return Promise.resolve(next.value.promise).then((value) => {\n",
              "    // Cache the last promise value to make it available to the next\n",
              "    // step of the generator.\n",
              "    outputElement.lastPromiseValue = value;\n",
              "    return next.value.response;\n",
              "  });\n",
              "}\n",
              "\n",
              "/**\n",
              " * Generator function which is called between each async step of the upload\n",
              " * process.\n",
              " * @param {string} inputId Element ID of the input file picker element.\n",
              " * @param {string} outputId Element ID of the output display.\n",
              " * @return {!Iterable<!Object>} Iterable of next steps.\n",
              " */\n",
              "function* uploadFilesStep(inputId, outputId) {\n",
              "  const inputElement = document.getElementById(inputId);\n",
              "  inputElement.disabled = false;\n",
              "\n",
              "  const outputElement = document.getElementById(outputId);\n",
              "  outputElement.innerHTML = '';\n",
              "\n",
              "  const pickedPromise = new Promise((resolve) => {\n",
              "    inputElement.addEventListener('change', (e) => {\n",
              "      resolve(e.target.files);\n",
              "    });\n",
              "  });\n",
              "\n",
              "  const cancel = document.createElement('button');\n",
              "  inputElement.parentElement.appendChild(cancel);\n",
              "  cancel.textContent = 'Cancel upload';\n",
              "  const cancelPromise = new Promise((resolve) => {\n",
              "    cancel.onclick = () => {\n",
              "      resolve(null);\n",
              "    };\n",
              "  });\n",
              "\n",
              "  // Wait for the user to pick the files.\n",
              "  const files = yield {\n",
              "    promise: Promise.race([pickedPromise, cancelPromise]),\n",
              "    response: {\n",
              "      action: 'starting',\n",
              "    }\n",
              "  };\n",
              "\n",
              "  cancel.remove();\n",
              "\n",
              "  // Disable the input element since further picks are not allowed.\n",
              "  inputElement.disabled = true;\n",
              "\n",
              "  if (!files) {\n",
              "    return {\n",
              "      response: {\n",
              "        action: 'complete',\n",
              "      }\n",
              "    };\n",
              "  }\n",
              "\n",
              "  for (const file of files) {\n",
              "    const li = document.createElement('li');\n",
              "    li.append(span(file.name, {fontWeight: 'bold'}));\n",
              "    li.append(span(\n",
              "        `(${file.type || 'n/a'}) - ${file.size} bytes, ` +\n",
              "        `last modified: ${\n",
              "            file.lastModifiedDate ? file.lastModifiedDate.toLocaleDateString() :\n",
              "                                    'n/a'} - `));\n",
              "    const percent = span('0% done');\n",
              "    li.appendChild(percent);\n",
              "\n",
              "    outputElement.appendChild(li);\n",
              "\n",
              "    const fileDataPromise = new Promise((resolve) => {\n",
              "      const reader = new FileReader();\n",
              "      reader.onload = (e) => {\n",
              "        resolve(e.target.result);\n",
              "      };\n",
              "      reader.readAsArrayBuffer(file);\n",
              "    });\n",
              "    // Wait for the data to be ready.\n",
              "    let fileData = yield {\n",
              "      promise: fileDataPromise,\n",
              "      response: {\n",
              "        action: 'continue',\n",
              "      }\n",
              "    };\n",
              "\n",
              "    // Use a chunked sending to avoid message size limits. See b/62115660.\n",
              "    let position = 0;\n",
              "    do {\n",
              "      const length = Math.min(fileData.byteLength - position, MAX_PAYLOAD_SIZE);\n",
              "      const chunk = new Uint8Array(fileData, position, length);\n",
              "      position += length;\n",
              "\n",
              "      const base64 = btoa(String.fromCharCode.apply(null, chunk));\n",
              "      yield {\n",
              "        response: {\n",
              "          action: 'append',\n",
              "          file: file.name,\n",
              "          data: base64,\n",
              "        },\n",
              "      };\n",
              "\n",
              "      let percentDone = fileData.byteLength === 0 ?\n",
              "          100 :\n",
              "          Math.round((position / fileData.byteLength) * 100);\n",
              "      percent.textContent = `${percentDone}% done`;\n",
              "\n",
              "    } while (position < fileData.byteLength);\n",
              "  }\n",
              "\n",
              "  // All done.\n",
              "  yield {\n",
              "    response: {\n",
              "      action: 'complete',\n",
              "    }\n",
              "  };\n",
              "}\n",
              "\n",
              "scope.google = scope.google || {};\n",
              "scope.google.colab = scope.google.colab || {};\n",
              "scope.google.colab._files = {\n",
              "  _uploadFiles,\n",
              "  _uploadFilesContinue,\n",
              "};\n",
              "})(self);\n",
              "</script> "
            ]
          },
          "metadata": {}
        },
        {
          "output_type": "stream",
          "name": "stdout",
          "text": [
            "Saving spam.csv to spam.csv\n"
          ]
        }
      ]
    },
    {
      "cell_type": "code",
      "source": [
        "import pandas as pd\n",
        "from sklearn.model_selection import train_test_split\n",
        "from sklearn.feature_extraction.text import CountVectorizer\n",
        "from sklearn.naive_bayes import MultinomialNB\n",
        "from sklearn.metrics import accuracy_score,classification_report\n",
        "\n",
        "#load the dataset\n",
        "df=pd.read_csv('spam.csv',encoding='latin-1')\n",
        "#select relevant columns\n",
        "df=df[['v1','v2']]\n",
        "df.columns=['label','message']\n",
        "\n",
        "#encode labels :spam as 1 and not spam as 0\n",
        "df['label']=df['label'].map({'spam':1,'ham':0})\n",
        "#split the dataset into training and test sets\n",
        "x_train,x_test,y_train,y_test=train_test_split(df['message'],df['label'],test_size=0.2,random_state=42)\n",
        "#vectorize the text data\n",
        "vectorizer=CountVectorizer()\n",
        "x_train_vec=vectorizer.fit_transform(x_train)\n",
        "x_test_vec=vectorizer.transform(x_test)\n",
        "#train the model\n",
        "model=MultinomialNB()\n",
        "model.fit(x_train_vec,y_train)\n",
        "#make predictions on the test set\n",
        "y_pred=model.predict(x_test_vec)\n",
        "#evaluate the model\n",
        "accuracy=accuracy_score(y_test,y_pred)\n",
        "print('accuracy:',accuracy)\n",
        "report=classification_report(y_test,y_pred)\n",
        "print('classification report:\\n',report)"
      ],
      "metadata": {
        "colab": {
          "base_uri": "https://localhost:8080/"
        },
        "id": "-E8tf4X1FAfj",
        "outputId": "0bd8c117-64a1-4df7-bf46-decbd85dc309"
      },
      "execution_count": 10,
      "outputs": [
        {
          "output_type": "stream",
          "name": "stdout",
          "text": [
            "accuracy: 0.9838565022421525\n",
            "classification report:\n",
            "               precision    recall  f1-score   support\n",
            "\n",
            "           0       0.98      1.00      0.99       965\n",
            "           1       0.99      0.89      0.94       150\n",
            "\n",
            "    accuracy                           0.98      1115\n",
            "   macro avg       0.98      0.95      0.96      1115\n",
            "weighted avg       0.98      0.98      0.98      1115\n",
            "\n"
          ]
        }
      ]
    }
  ]
}